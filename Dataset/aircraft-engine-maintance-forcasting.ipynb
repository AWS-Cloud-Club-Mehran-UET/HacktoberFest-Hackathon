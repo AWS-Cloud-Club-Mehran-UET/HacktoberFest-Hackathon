{
 "cells": [
  {
   "cell_type": "markdown",
   "id": "f3374c3a",
   "metadata": {
    "papermill": {
     "duration": 0.013762,
     "end_time": "2024-03-11T19:57:32.096411",
     "exception": false,
     "start_time": "2024-03-11T19:57:32.082649",
     "status": "completed"
    },
    "tags": []
   },
   "source": [
    "# Aircraft Engine Predictive Maintenance Project\n",
    "\n",
    "## Overview\n",
    "\n",
    "In this project, we aim to develop a predictive maintenance model for aircraft engines. The primary objective is to predict the Remaining Useful Life (RUL) of these engines based on sensor readings and operational parameters. Predictive maintenance is crucial for optimizing maintenance schedules, reducing downtime, and ensuring the efficient operation of aircraft.\n",
    "\n",
    "## Dataset\n",
    "\n",
    "The dataset used in this project consists of sensor data and engine settings collected over time. It includes features such as setting parameters, sensor measurements.\n",
    "\n",
    "## Approach\n",
    "\n",
    "The project follows these main steps:\n",
    "\n",
    "1. **Data Preparation:** Merging training and test datasets, calculating RUL, and defining feature columns.\n",
    "2. **Model Selection:** Utilizing Linear Regression as the chosen model for predicting RUL.\n",
    "3. **Training and Evaluation:** Training the model on the training set and evaluating its performance using metrics such as Mean Squared Error (MSE).\n",
    "\n",
    "## Goals\n",
    "\n",
    "- Develop a regression model to accurately predict the Remaining Useful Life of aircraft engines.\n",
    "- Understand the significance of various features in determining engine health.\n",
    "- Lay the groundwork for future explorations, potentially incorporating classification tasks for more nuanced predictions.\n",
    "\n",
    "Let's delve into the details of each step and explore the outcomes of our predictive maintenance model.\n"
   ]
  },
  {
   "cell_type": "markdown",
   "id": "6bd6a667",
   "metadata": {
    "papermill": {
     "duration": 0.012802,
     "end_time": "2024-03-11T19:57:32.122557",
     "exception": false,
     "start_time": "2024-03-11T19:57:32.109755",
     "status": "completed"
    },
    "tags": []
   },
   "source": [
    "## Importing Libraries"
   ]
  },
  {
   "cell_type": "code",
   "execution_count": 1,
   "id": "dd2c9865",
   "metadata": {
    "execution": {
     "iopub.execute_input": "2024-03-11T19:57:32.150596Z",
     "iopub.status.busy": "2024-03-11T19:57:32.149849Z",
     "iopub.status.idle": "2024-03-11T19:57:34.474811Z",
     "shell.execute_reply": "2024-03-11T19:57:34.473889Z"
    },
    "papermill": {
     "duration": 2.342025,
     "end_time": "2024-03-11T19:57:34.477430",
     "exception": false,
     "start_time": "2024-03-11T19:57:32.135405",
     "status": "completed"
    },
    "tags": []
   },
   "outputs": [],
   "source": [
    "import pandas as pd\n",
    "import numpy as np\n",
    "import matplotlib.pyplot as plt\n",
    "import seaborn as sns\n",
    "from sklearn.model_selection import train_test_split\n",
    "from sklearn.linear_model import LinearRegression\n",
    "from sklearn.metrics import accuracy_score, classification_report"
   ]
  },
  {
   "cell_type": "markdown",
   "id": "bdc7a3e7",
   "metadata": {
    "papermill": {
     "duration": 0.012007,
     "end_time": "2024-03-11T19:57:34.501999",
     "exception": false,
     "start_time": "2024-03-11T19:57:34.489992",
     "status": "completed"
    },
    "tags": []
   },
   "source": [
    "## Loading Datasets\n",
    "- **df_train, df_test, df_truth:** Reading datasets from Excel files that contain information about aircraft engine performance.\n"
   ]
  },
  {
   "cell_type": "code",
   "execution_count": 2,
   "id": "7de09734",
   "metadata": {
    "execution": {
     "iopub.execute_input": "2024-03-11T19:57:34.528143Z",
     "iopub.status.busy": "2024-03-11T19:57:34.527594Z",
     "iopub.status.idle": "2024-03-11T19:57:52.237178Z",
     "shell.execute_reply": "2024-03-11T19:57:52.236255Z"
    },
    "papermill": {
     "duration": 17.725592,
     "end_time": "2024-03-11T19:57:52.239737",
     "exception": false,
     "start_time": "2024-03-11T19:57:34.514145",
     "status": "completed"
    },
    "tags": []
   },
   "outputs": [],
   "source": [
    "df_train = pd.read_excel('PM_train.xlsx')\n",
    "df_test = pd.read_excel('PM_train.xlsx')\n",
    "df_truth = pd.read_excel('PM_train.xlsx')"
   ]
  },
  {
   "cell_type": "markdown",
   "id": "361132c5",
   "metadata": {
    "papermill": {
     "duration": 0.012732,
     "end_time": "2024-03-11T19:57:52.265496",
     "exception": false,
     "start_time": "2024-03-11T19:57:52.252764",
     "status": "completed"
    },
    "tags": []
   },
   "source": [
    "## Data Concatenation\n",
    "- **Concatenation:** Combining `df_train` and `df_test` into a single dataframe (`df`) to work with the entire dataset."
   ]
  },
  {
   "cell_type": "code",
   "execution_count": 4,
   "id": "e6a10303",
   "metadata": {
    "execution": {
     "iopub.execute_input": "2024-03-11T19:57:52.292730Z",
     "iopub.status.busy": "2024-03-11T19:57:52.292178Z",
     "iopub.status.idle": "2024-03-11T19:57:52.341282Z",
     "shell.execute_reply": "2024-03-11T19:57:52.340302Z"
    },
    "papermill": {
     "duration": 0.065503,
     "end_time": "2024-03-11T19:57:52.343744",
     "exception": false,
     "start_time": "2024-03-11T19:57:52.278241",
     "status": "completed"
    },
    "tags": []
   },
   "outputs": [
    {
     "data": {
      "text/html": [
       "<div>\n",
       "<style scoped>\n",
       "    .dataframe tbody tr th:only-of-type {\n",
       "        vertical-align: middle;\n",
       "    }\n",
       "\n",
       "    .dataframe tbody tr th {\n",
       "        vertical-align: top;\n",
       "    }\n",
       "\n",
       "    .dataframe thead th {\n",
       "        text-align: right;\n",
       "    }\n",
       "</style>\n",
       "<table border=\"1\" class=\"dataframe\">\n",
       "  <thead>\n",
       "    <tr style=\"text-align: right;\">\n",
       "      <th></th>\n",
       "      <th>id</th>\n",
       "      <th>cycle</th>\n",
       "      <th>setting1</th>\n",
       "      <th>setting2</th>\n",
       "      <th>setting3</th>\n",
       "      <th>s1</th>\n",
       "      <th>s2</th>\n",
       "      <th>s3</th>\n",
       "      <th>s4</th>\n",
       "      <th>s5</th>\n",
       "      <th>...</th>\n",
       "      <th>s12</th>\n",
       "      <th>s13</th>\n",
       "      <th>s14</th>\n",
       "      <th>s15</th>\n",
       "      <th>s16</th>\n",
       "      <th>s17</th>\n",
       "      <th>s18</th>\n",
       "      <th>s19</th>\n",
       "      <th>s20</th>\n",
       "      <th>s21</th>\n",
       "    </tr>\n",
       "  </thead>\n",
       "  <tbody>\n",
       "    <tr>\n",
       "      <th>0</th>\n",
       "      <td>1</td>\n",
       "      <td>1</td>\n",
       "      <td>-0.0007</td>\n",
       "      <td>-0.0004</td>\n",
       "      <td>100</td>\n",
       "      <td>518.67</td>\n",
       "      <td>641.82</td>\n",
       "      <td>1589.70</td>\n",
       "      <td>1400.60</td>\n",
       "      <td>14.62</td>\n",
       "      <td>...</td>\n",
       "      <td>521.66</td>\n",
       "      <td>2388.02</td>\n",
       "      <td>8138.62</td>\n",
       "      <td>8.4195</td>\n",
       "      <td>0.03</td>\n",
       "      <td>392</td>\n",
       "      <td>2388</td>\n",
       "      <td>100</td>\n",
       "      <td>39.06</td>\n",
       "      <td>23.4190</td>\n",
       "    </tr>\n",
       "    <tr>\n",
       "      <th>1</th>\n",
       "      <td>1</td>\n",
       "      <td>2</td>\n",
       "      <td>0.0019</td>\n",
       "      <td>-0.0003</td>\n",
       "      <td>100</td>\n",
       "      <td>518.67</td>\n",
       "      <td>642.15</td>\n",
       "      <td>1591.82</td>\n",
       "      <td>1403.14</td>\n",
       "      <td>14.62</td>\n",
       "      <td>...</td>\n",
       "      <td>522.28</td>\n",
       "      <td>2388.07</td>\n",
       "      <td>8131.49</td>\n",
       "      <td>8.4318</td>\n",
       "      <td>0.03</td>\n",
       "      <td>392</td>\n",
       "      <td>2388</td>\n",
       "      <td>100</td>\n",
       "      <td>39.00</td>\n",
       "      <td>23.4236</td>\n",
       "    </tr>\n",
       "    <tr>\n",
       "      <th>2</th>\n",
       "      <td>1</td>\n",
       "      <td>3</td>\n",
       "      <td>-0.0043</td>\n",
       "      <td>0.0003</td>\n",
       "      <td>100</td>\n",
       "      <td>518.67</td>\n",
       "      <td>642.35</td>\n",
       "      <td>1587.99</td>\n",
       "      <td>1404.20</td>\n",
       "      <td>14.62</td>\n",
       "      <td>...</td>\n",
       "      <td>522.42</td>\n",
       "      <td>2388.03</td>\n",
       "      <td>8133.23</td>\n",
       "      <td>8.4178</td>\n",
       "      <td>0.03</td>\n",
       "      <td>390</td>\n",
       "      <td>2388</td>\n",
       "      <td>100</td>\n",
       "      <td>38.95</td>\n",
       "      <td>23.3442</td>\n",
       "    </tr>\n",
       "    <tr>\n",
       "      <th>3</th>\n",
       "      <td>1</td>\n",
       "      <td>4</td>\n",
       "      <td>0.0007</td>\n",
       "      <td>0.0000</td>\n",
       "      <td>100</td>\n",
       "      <td>518.67</td>\n",
       "      <td>642.35</td>\n",
       "      <td>1582.79</td>\n",
       "      <td>1401.87</td>\n",
       "      <td>14.62</td>\n",
       "      <td>...</td>\n",
       "      <td>522.86</td>\n",
       "      <td>2388.08</td>\n",
       "      <td>8133.83</td>\n",
       "      <td>8.3682</td>\n",
       "      <td>0.03</td>\n",
       "      <td>392</td>\n",
       "      <td>2388</td>\n",
       "      <td>100</td>\n",
       "      <td>38.88</td>\n",
       "      <td>23.3739</td>\n",
       "    </tr>\n",
       "    <tr>\n",
       "      <th>4</th>\n",
       "      <td>1</td>\n",
       "      <td>5</td>\n",
       "      <td>-0.0019</td>\n",
       "      <td>-0.0002</td>\n",
       "      <td>100</td>\n",
       "      <td>518.67</td>\n",
       "      <td>642.37</td>\n",
       "      <td>1582.85</td>\n",
       "      <td>1406.22</td>\n",
       "      <td>14.62</td>\n",
       "      <td>...</td>\n",
       "      <td>522.19</td>\n",
       "      <td>2388.04</td>\n",
       "      <td>8133.80</td>\n",
       "      <td>8.4294</td>\n",
       "      <td>0.03</td>\n",
       "      <td>393</td>\n",
       "      <td>2388</td>\n",
       "      <td>100</td>\n",
       "      <td>38.90</td>\n",
       "      <td>23.4044</td>\n",
       "    </tr>\n",
       "  </tbody>\n",
       "</table>\n",
       "<p>5 rows × 26 columns</p>\n",
       "</div>"
      ],
      "text/plain": [
       "   id  cycle  setting1  setting2  setting3      s1      s2       s3       s4  \\\n",
       "0   1      1   -0.0007   -0.0004       100  518.67  641.82  1589.70  1400.60   \n",
       "1   1      2    0.0019   -0.0003       100  518.67  642.15  1591.82  1403.14   \n",
       "2   1      3   -0.0043    0.0003       100  518.67  642.35  1587.99  1404.20   \n",
       "3   1      4    0.0007    0.0000       100  518.67  642.35  1582.79  1401.87   \n",
       "4   1      5   -0.0019   -0.0002       100  518.67  642.37  1582.85  1406.22   \n",
       "\n",
       "      s5  ...     s12      s13      s14     s15   s16  s17   s18  s19    s20  \\\n",
       "0  14.62  ...  521.66  2388.02  8138.62  8.4195  0.03  392  2388  100  39.06   \n",
       "1  14.62  ...  522.28  2388.07  8131.49  8.4318  0.03  392  2388  100  39.00   \n",
       "2  14.62  ...  522.42  2388.03  8133.23  8.4178  0.03  390  2388  100  38.95   \n",
       "3  14.62  ...  522.86  2388.08  8133.83  8.3682  0.03  392  2388  100  38.88   \n",
       "4  14.62  ...  522.19  2388.04  8133.80  8.4294  0.03  393  2388  100  38.90   \n",
       "\n",
       "       s21  \n",
       "0  23.4190  \n",
       "1  23.4236  \n",
       "2  23.3442  \n",
       "3  23.3739  \n",
       "4  23.4044  \n",
       "\n",
       "[5 rows x 26 columns]"
      ]
     },
     "execution_count": 4,
     "metadata": {},
     "output_type": "execute_result"
    }
   ],
   "source": [
    "df = pd.concat([df_train, df_test], ignore_index=True)\n",
    "df.head()"
   ]
  },
  {
   "cell_type": "code",
   "execution_count": 5,
   "id": "587a3cd5",
   "metadata": {
    "execution": {
     "iopub.execute_input": "2024-03-11T19:57:52.372439Z",
     "iopub.status.busy": "2024-03-11T19:57:52.372025Z",
     "iopub.status.idle": "2024-03-11T19:57:52.379037Z",
     "shell.execute_reply": "2024-03-11T19:57:52.377901Z"
    },
    "papermill": {
     "duration": 0.02374,
     "end_time": "2024-03-11T19:57:52.381252",
     "exception": false,
     "start_time": "2024-03-11T19:57:52.357512",
     "status": "completed"
    },
    "tags": []
   },
   "outputs": [
    {
     "data": {
      "text/plain": [
       "Index(['id', 'cycle', 'setting1', 'setting2', 'setting3', 's1', 's2', 's3',\n",
       "       's4', 's5', 's6', 's7', 's8', 's9', 's10', 's11', 's12', 's13', 's14',\n",
       "       's15', 's16', 's17', 's18', 's19', 's20', 's21'],\n",
       "      dtype='object')"
      ]
     },
     "execution_count": 5,
     "metadata": {},
     "output_type": "execute_result"
    }
   ],
   "source": [
    "df.columns"
   ]
  },
  {
   "cell_type": "markdown",
   "id": "2054591d",
   "metadata": {
    "papermill": {
     "duration": 0.012631,
     "end_time": "2024-03-11T19:57:52.407027",
     "exception": false,
     "start_time": "2024-03-11T19:57:52.394396",
     "status": "completed"
    },
    "tags": []
   },
   "source": [
    "# Feature Engineering\n",
    "\n",
    "\n",
    "###    RUL\n",
    "\n",
    "Remaining Useful Life (RUL) is a crucial concept in predictive maintenance, representing the estimated operational lifespan or cycles remaining for an asset before it is expected to fail. In the context of aircraft engines, RUL helps anticipate the point at which an engine may no longer meet performance requirements. By calculating RUL, organizations can proactively plan maintenance activities, optimize resource allocation, and minimize downtime. This predictive approach enables timely interventions, reducing the risk of unexpected failures and enhancing the overall efficiency and reliability of the asset. RUL serves as a key metric for making informed decisions in maintenance and operational strategies.\n",
    "- **Remaining Useful Life (RUL):** Calculated by subtracting the current cycle from the maximum cycle for each engine.\n",
    "- **Feature Columns:** Defined a list of feature columns for model training."
   ]
  },
  {
   "cell_type": "code",
   "execution_count": 6,
   "id": "1ab063aa",
   "metadata": {
    "execution": {
     "iopub.execute_input": "2024-03-11T19:57:52.434162Z",
     "iopub.status.busy": "2024-03-11T19:57:52.433799Z",
     "iopub.status.idle": "2024-03-11T19:57:52.451001Z",
     "shell.execute_reply": "2024-03-11T19:57:52.450238Z"
    },
    "papermill": {
     "duration": 0.033329,
     "end_time": "2024-03-11T19:57:52.453088",
     "exception": false,
     "start_time": "2024-03-11T19:57:52.419759",
     "status": "completed"
    },
    "tags": []
   },
   "outputs": [],
   "source": [
    "df['RUL'] = df.groupby('id')['cycle'].transform(max) - df['cycle']\n",
    "feature_columns = ['setting1', 'setting2', 'setting3', 's1', 's2', 's3', 's4', 's5', 's6', 's7', 's8', 's9', 's10', 's11', 's12', 's13', 's14', 's15', 's16', 's17', 's18', 's19', 's20', 's21']"
   ]
  },
  {
   "cell_type": "markdown",
   "id": "93648cc1",
   "metadata": {
    "papermill": {
     "duration": 0.013012,
     "end_time": "2024-03-11T19:57:52.479601",
     "exception": false,
     "start_time": "2024-03-11T19:57:52.466589",
     "status": "completed"
    },
    "tags": []
   },
   "source": [
    "## Merging Truth Data\n",
    "- **Merge Operation:** Combining `df` with truth data (`df_truth`) based on the engine ID, providing additional information for analysis."
   ]
  },
  {
   "cell_type": "code",
   "execution_count": 7,
   "id": "541157e5",
   "metadata": {
    "execution": {
     "iopub.execute_input": "2024-03-11T19:57:52.507147Z",
     "iopub.status.busy": "2024-03-11T19:57:52.506805Z",
     "iopub.status.idle": "2024-03-11T19:57:52.525489Z",
     "shell.execute_reply": "2024-03-11T19:57:52.524550Z"
    },
    "papermill": {
     "duration": 0.035153,
     "end_time": "2024-03-11T19:57:52.527685",
     "exception": false,
     "start_time": "2024-03-11T19:57:52.492532",
     "status": "completed"
    },
    "tags": []
   },
   "outputs": [],
   "source": [
    "df = pd.merge(df, df_truth, on='id', how='left')"
   ]
  },
  {
   "cell_type": "markdown",
   "id": "8815b5a1",
   "metadata": {
    "papermill": {
     "duration": 0.013027,
     "end_time": "2024-03-11T19:57:52.554126",
     "exception": false,
     "start_time": "2024-03-11T19:57:52.541099",
     "status": "completed"
    },
    "tags": []
   },
   "source": [
    "## Labeling\n",
    "- **Threshold Labeling:** Creating a binary label ('label') based on a threshold of 30 for RUL, which helps in creating a classification problem."
   ]
  },
  {
   "cell_type": "markdown",
   "id": "72877e26",
   "metadata": {},
   "source": [
    "**Handling the missing values**"
   ]
  },
  {
   "cell_type": "code",
   "execution_count": null,
   "id": "25f6b9c2",
   "metadata": {},
   "outputs": [
    {
     "name": "stdout",
     "output_type": "stream",
     "text": [
      "----------------------------------------\n"
     ]
    }
   ],
   "source": [
    "# calculate missing values\n",
    "print(\"----------------------------------------\")\n",
    "print(\n",
    "    f\"Missing values in each column:\\n{df.isnull().sum().sort_values(ascending=False)}\")\n",
    "print(\"----------------------------------------\")\n",
    "print(\n",
    "    f\"Percentage of missing values in each column:\\n{round(df.isnull().sum() / len(df) * 100, 2).sort_values(ascending=False)}\")"
   ]
  },
  {
   "cell_type": "code",
   "execution_count": null,
   "id": "13370897",
   "metadata": {},
   "outputs": [],
   "source": [
    "# Visualize the data\n",
    "plt.figure(figsize=(8, 5))\n",
    "sns.heatmap(df.isnull(), cbar=False)\n",
    "plt.show()"
   ]
  },
  {
   "cell_type": "code",
   "execution_count": null,
   "id": "cd692405",
   "metadata": {},
   "outputs": [],
   "source": [
    "# Loop to handle imputation for categorical and numerical columns separately\n",
    "for column in df.columns:\n",
    "    if df[column].dtype == 'object':  # Check if the column is categorical\n",
    "        df[column].fillna(df[column].mode()[0], inplace=True)  # Impute with mode\n",
    "    else:  # Column is numerical\n",
    "        df[column].fillna(df[column].median(), inplace=True)  # Impute with median"
   ]
  },
  {
   "cell_type": "markdown",
   "id": "0ad8ff89",
   "metadata": {},
   "source": [
    "Outliers "
   ]
  },
  {
   "cell_type": "code",
   "execution_count": null,
   "id": "98f76b15",
   "metadata": {},
   "outputs": [],
   "source": [
    "# Plot boxplots for numerical features\n",
    "plt.figure(figsize=(10, 8))\n",
    "for i, col in enumerate(['age', 'trestbps', 'chol', 'thalch', 'oldpeak']):\n",
    "    plt.subplot(2, 3, i + 1)\n",
    "    sns.boxplot(df[col])\n",
    "    plt.title(f'Boxplot of {col}')\n",
    "plt.tight_layout()\n",
    "plt.show()"
   ]
  },
  {
   "cell_type": "code",
   "execution_count": null,
   "id": "7ac566f4",
   "metadata": {},
   "outputs": [],
   "source": []
  },
  {
   "cell_type": "code",
   "execution_count": 8,
   "id": "94f69709",
   "metadata": {
    "execution": {
     "iopub.execute_input": "2024-03-11T19:57:52.582693Z",
     "iopub.status.busy": "2024-03-11T19:57:52.582310Z",
     "iopub.status.idle": "2024-03-11T19:57:52.587800Z",
     "shell.execute_reply": "2024-03-11T19:57:52.587173Z"
    },
    "papermill": {
     "duration": 0.022396,
     "end_time": "2024-03-11T19:57:52.589823",
     "exception": false,
     "start_time": "2024-03-11T19:57:52.567427",
     "status": "completed"
    },
    "tags": []
   },
   "outputs": [],
   "source": [
    "threshold = 30\n",
    "df['label'] = (df['RUL'] <= threshold).astype(int)"
   ]
  },
  {
   "cell_type": "markdown",
   "id": "dd4cffa0",
   "metadata": {
    "papermill": {
     "duration": 0.013129,
     "end_time": "2024-03-11T19:57:52.616606",
     "exception": false,
     "start_time": "2024-03-11T19:57:52.603477",
     "status": "completed"
    },
    "tags": []
   },
   "source": [
    "## Train-Test Split\n",
    "- **Splitting Data:** Using the train-test split function to divide the data into training and testing sets. The model will be trained on the training set and evaluated on the testing set."
   ]
  },
  {
   "cell_type": "code",
   "execution_count": 12,
   "id": "adf5291c",
   "metadata": {},
   "outputs": [
    {
     "name": "stdout",
     "output_type": "stream",
     "text": [
      "['id', 'cycle_x', 'setting1_x', 'setting2_x', 'setting3_x', 's1_x', 's2_x', 's3_x', 's4_x', 's5_x', 's6_x', 's7_x', 's8_x', 's9_x', 's10_x', 's11_x', 's12_x', 's13_x', 's14_x', 's15_x', 's16_x', 's17_x', 's18_x', 's19_x', 's20_x', 's21_x', 'RUL', 'cycle_y', 'setting1_y', 'setting2_y', 'setting3_y', 's1_y', 's2_y', 's3_y', 's4_y', 's5_y', 's6_y', 's7_y', 's8_y', 's9_y', 's10_y', 's11_y', 's12_y', 's13_y', 's14_y', 's15_y', 's16_y', 's17_y', 's18_y', 's19_y', 's20_y', 's21_y', 'label']\n"
     ]
    }
   ],
   "source": [
    "# Check the columns in the DataFrame\n",
    "print(df.columns.tolist())\n"
   ]
  },
  {
   "cell_type": "code",
   "execution_count": 16,
   "id": "ad35298f",
   "metadata": {},
   "outputs": [],
   "source": [
    "# Define the relevant feature columns (keeping the '_x' suffix)\n",
    "feature_columns = ['setting1_x', 'setting2_x', 'setting3_x', \n",
    "                   's1_x', 's2_x', 's3_x', 's4_x', 's5_x', \n",
    "                   's6_x', 's7_x', 's8_x', 's9_x', 's10_x', \n",
    "                   's11_x', 's12_x', 's13_x', 's14_x', \n",
    "                   's15_x', 's16_x', 's17_x', 's18_x', \n",
    "                   's19_x', 's20_x', 's21_x']\n"
   ]
  },
  {
   "cell_type": "code",
   "execution_count": 17,
   "id": "04c0c52d",
   "metadata": {},
   "outputs": [
    {
     "name": "stdout",
     "output_type": "stream",
     "text": [
      "All specified feature columns are present.\n"
     ]
    }
   ],
   "source": [
    "# Define your feature columns (ensure they match your DataFrame's columns)\n",
    "# feature_columns = ['setting1', 'setting2', 'setting3', 's1', 's2', 's3', 's4', 's5', \n",
    "#                    's6', 's7', 's8', 's9', 's10', 's11', 's12', 's13', 's14', 's15', \n",
    "#                    's16', 's17', 's18', 's19', 's20', 's21']\n",
    "\n",
    "# Verify if all specified feature columns exist in the DataFrame\n",
    "missing_columns = [col for col in feature_columns if col not in df.columns]\n",
    "if missing_columns:\n",
    "    print(f\"Missing columns: {missing_columns}\")\n",
    "else:\n",
    "    print(\"All specified feature columns are present.\")\n"
   ]
  },
  {
   "cell_type": "code",
   "execution_count": 18,
   "id": "d5f96870",
   "metadata": {},
   "outputs": [],
   "source": [
    "# Strip whitespace from column names\n",
    "df.columns = df.columns.str.strip()\n"
   ]
  },
  {
   "cell_type": "code",
   "execution_count": 19,
   "id": "7f39c9ee",
   "metadata": {},
   "outputs": [],
   "source": [
    "from sklearn.model_selection import train_test_split\n",
    "\n",
    "# Proceed with train-test split\n",
    "X_train, X_test, y_train, y_test = train_test_split(df[feature_columns], df['RUL'], test_size=0.2, random_state=42)\n"
   ]
  },
  {
   "cell_type": "code",
   "execution_count": 10,
   "id": "e02ffc45",
   "metadata": {},
   "outputs": [
    {
     "name": "stdout",
     "output_type": "stream",
     "text": [
      "Missing columns: ['setting1', 'setting2', 'setting3', 's1', 's2', 's3', 's4', 's5', 's6', 's7', 's8', 's9', 's10', 's11', 's12', 's13', 's14', 's15', 's16', 's17', 's18', 's19', 's20', 's21']\n"
     ]
    }
   ],
   "source": [
    "feature_columns = ['setting1', 'setting2', 'setting3', 's1', 's2', 's3', 's4', 's5', \n",
    "                   's6', 's7', 's8', 's9', 's10', 's11', 's12', 's13', 's14', 's15', \n",
    "                   's16', 's17', 's18', 's19', 's20', 's21']\n",
    "\n",
    "# Verify if all specified feature columns exist in the DataFrame\n",
    "missing_columns = [col for col in feature_columns if col not in df.columns]\n",
    "if missing_columns:\n",
    "    print(f\"Missing columns: {missing_columns}\")\n",
    "else:\n",
    "    print(\"All specified feature columns are present.\")\n"
   ]
  },
  {
   "cell_type": "markdown",
   "id": "6d8ec7fb",
   "metadata": {
    "papermill": {
     "duration": 0.013177,
     "end_time": "2024-03-11T19:57:52.698657",
     "exception": false,
     "start_time": "2024-03-11T19:57:52.685480",
     "status": "completed"
    },
    "tags": []
   },
   "source": [
    "# Model Training\n",
    "- **Linear Regression Model:** Creating and training a linear regression model using the feature columns defined earlier."
   ]
  },
  {
   "cell_type": "code",
   "execution_count": 9,
   "id": "06b142b0",
   "metadata": {
    "execution": {
     "iopub.execute_input": "2024-03-11T19:57:52.727748Z",
     "iopub.status.busy": "2024-03-11T19:57:52.727355Z",
     "iopub.status.idle": "2024-03-11T19:57:52.800725Z",
     "shell.execute_reply": "2024-03-11T19:57:52.799172Z"
    },
    "papermill": {
     "duration": 0.092239,
     "end_time": "2024-03-11T19:57:52.804665",
     "exception": false,
     "start_time": "2024-03-11T19:57:52.712426",
     "status": "completed"
    },
    "tags": []
   },
   "outputs": [
    {
     "data": {
      "text/html": [
       "<style>#sk-container-id-1 {color: black;background-color: white;}#sk-container-id-1 pre{padding: 0;}#sk-container-id-1 div.sk-toggleable {background-color: white;}#sk-container-id-1 label.sk-toggleable__label {cursor: pointer;display: block;width: 100%;margin-bottom: 0;padding: 0.3em;box-sizing: border-box;text-align: center;}#sk-container-id-1 label.sk-toggleable__label-arrow:before {content: \"▸\";float: left;margin-right: 0.25em;color: #696969;}#sk-container-id-1 label.sk-toggleable__label-arrow:hover:before {color: black;}#sk-container-id-1 div.sk-estimator:hover label.sk-toggleable__label-arrow:before {color: black;}#sk-container-id-1 div.sk-toggleable__content {max-height: 0;max-width: 0;overflow: hidden;text-align: left;background-color: #f0f8ff;}#sk-container-id-1 div.sk-toggleable__content pre {margin: 0.2em;color: black;border-radius: 0.25em;background-color: #f0f8ff;}#sk-container-id-1 input.sk-toggleable__control:checked~div.sk-toggleable__content {max-height: 200px;max-width: 100%;overflow: auto;}#sk-container-id-1 input.sk-toggleable__control:checked~label.sk-toggleable__label-arrow:before {content: \"▾\";}#sk-container-id-1 div.sk-estimator input.sk-toggleable__control:checked~label.sk-toggleable__label {background-color: #d4ebff;}#sk-container-id-1 div.sk-label input.sk-toggleable__control:checked~label.sk-toggleable__label {background-color: #d4ebff;}#sk-container-id-1 input.sk-hidden--visually {border: 0;clip: rect(1px 1px 1px 1px);clip: rect(1px, 1px, 1px, 1px);height: 1px;margin: -1px;overflow: hidden;padding: 0;position: absolute;width: 1px;}#sk-container-id-1 div.sk-estimator {font-family: monospace;background-color: #f0f8ff;border: 1px dotted black;border-radius: 0.25em;box-sizing: border-box;margin-bottom: 0.5em;}#sk-container-id-1 div.sk-estimator:hover {background-color: #d4ebff;}#sk-container-id-1 div.sk-parallel-item::after {content: \"\";width: 100%;border-bottom: 1px solid gray;flex-grow: 1;}#sk-container-id-1 div.sk-label:hover label.sk-toggleable__label {background-color: #d4ebff;}#sk-container-id-1 div.sk-serial::before {content: \"\";position: absolute;border-left: 1px solid gray;box-sizing: border-box;top: 0;bottom: 0;left: 50%;z-index: 0;}#sk-container-id-1 div.sk-serial {display: flex;flex-direction: column;align-items: center;background-color: white;padding-right: 0.2em;padding-left: 0.2em;position: relative;}#sk-container-id-1 div.sk-item {position: relative;z-index: 1;}#sk-container-id-1 div.sk-parallel {display: flex;align-items: stretch;justify-content: center;background-color: white;position: relative;}#sk-container-id-1 div.sk-item::before, #sk-container-id-1 div.sk-parallel-item::before {content: \"\";position: absolute;border-left: 1px solid gray;box-sizing: border-box;top: 0;bottom: 0;left: 50%;z-index: -1;}#sk-container-id-1 div.sk-parallel-item {display: flex;flex-direction: column;z-index: 1;position: relative;background-color: white;}#sk-container-id-1 div.sk-parallel-item:first-child::after {align-self: flex-end;width: 50%;}#sk-container-id-1 div.sk-parallel-item:last-child::after {align-self: flex-start;width: 50%;}#sk-container-id-1 div.sk-parallel-item:only-child::after {width: 0;}#sk-container-id-1 div.sk-dashed-wrapped {border: 1px dashed gray;margin: 0 0.4em 0.5em 0.4em;box-sizing: border-box;padding-bottom: 0.4em;background-color: white;}#sk-container-id-1 div.sk-label label {font-family: monospace;font-weight: bold;display: inline-block;line-height: 1.2em;}#sk-container-id-1 div.sk-label-container {text-align: center;}#sk-container-id-1 div.sk-container {/* jupyter's `normalize.less` sets `[hidden] { display: none; }` but bootstrap.min.css set `[hidden] { display: none !important; }` so we also need the `!important` here to be able to override the default hidden behavior on the sphinx rendered scikit-learn.org. See: https://github.com/scikit-learn/scikit-learn/issues/21755 */display: inline-block !important;position: relative;}#sk-container-id-1 div.sk-text-repr-fallback {display: none;}</style><div id=\"sk-container-id-1\" class=\"sk-top-container\"><div class=\"sk-text-repr-fallback\"><pre>LinearRegression()</pre><b>In a Jupyter environment, please rerun this cell to show the HTML representation or trust the notebook. <br />On GitHub, the HTML representation is unable to render, please try loading this page with nbviewer.org.</b></div><div class=\"sk-container\" hidden><div class=\"sk-item\"><div class=\"sk-estimator sk-toggleable\"><input class=\"sk-toggleable__control sk-hidden--visually\" id=\"sk-estimator-id-1\" type=\"checkbox\" checked><label for=\"sk-estimator-id-1\" class=\"sk-toggleable__label sk-toggleable__label-arrow\">LinearRegression</label><div class=\"sk-toggleable__content\"><pre>LinearRegression()</pre></div></div></div></div></div>"
      ],
      "text/plain": [
       "LinearRegression()"
      ]
     },
     "execution_count": 9,
     "metadata": {},
     "output_type": "execute_result"
    }
   ],
   "source": [
    "# Creating a linear regression model\n",
    "model = LinearRegression()\n",
    "# Train the model\n",
    "model.fit(X_train, y_train)"
   ]
  },
  {
   "cell_type": "markdown",
   "id": "2ec15765",
   "metadata": {
    "papermill": {
     "duration": 0.0293,
     "end_time": "2024-03-11T19:57:52.863274",
     "exception": false,
     "start_time": "2024-03-11T19:57:52.833974",
     "status": "completed"
    },
    "tags": []
   },
   "source": [
    "## Prediction and Evaluation\n",
    "- **Making Predictions:** Applying the trained model to predict RUL on the test set.\n",
    "- **Binary Conversion:** Converting RUL values to binary labels (0 or 1) for evaluation as a classification problem.\n",
    "- **Evaluation Metrics:** Calculating accuracy and classification report metrics for assessing the model's performance."
   ]
  },
  {
   "cell_type": "code",
   "execution_count": 10,
   "id": "e42b9377",
   "metadata": {
    "execution": {
     "iopub.execute_input": "2024-03-11T19:57:52.912986Z",
     "iopub.status.busy": "2024-03-11T19:57:52.912618Z",
     "iopub.status.idle": "2024-03-11T19:57:52.959297Z",
     "shell.execute_reply": "2024-03-11T19:57:52.957951Z"
    },
    "papermill": {
     "duration": 0.070935,
     "end_time": "2024-03-11T19:57:52.963092",
     "exception": false,
     "start_time": "2024-03-11T19:57:52.892157",
     "status": "completed"
    },
    "tags": []
   },
   "outputs": [
    {
     "name": "stdout",
     "output_type": "stream",
     "text": [
      "Accuracy: 0.9455019957015659\n",
      "              precision    recall  f1-score   support\n",
      "\n",
      "           0       0.95      1.00      0.97      5883\n",
      "           1       0.91      0.48      0.63       631\n",
      "\n",
      "    accuracy                           0.95      6514\n",
      "   macro avg       0.93      0.74      0.80      6514\n",
      "weighted avg       0.94      0.95      0.94      6514\n",
      "\n"
     ]
    }
   ],
   "source": [
    "# Make predictions on the test set\n",
    "y_pred = model.predict(X_test)\n",
    "\n",
    "# y_test contains the true labels and y_pred contains the predicted labels\n",
    "y_test_binary = (y_test <= threshold).astype(int)\n",
    "y_pred_binary = (y_pred <= threshold).astype(int)\n",
    "\n",
    "# Evaluate the model\n",
    "accuracy = accuracy_score(y_test_binary, y_pred_binary)\n",
    "print(f'Accuracy: {accuracy}')\n",
    "print(classification_report(y_test_binary, y_pred_binary))"
   ]
  },
  {
   "cell_type": "markdown",
   "id": "ca945ef5",
   "metadata": {
    "papermill": {
     "duration": 0.029967,
     "end_time": "2024-03-11T19:57:53.023997",
     "exception": false,
     "start_time": "2024-03-11T19:57:52.994030",
     "status": "completed"
    },
    "tags": []
   },
   "source": [
    "# Conclusion\n",
    "\n",
    "In this project, we aimed to predict the Remaining Useful Life (RUL) of aircraft engines using a regression approach. The dataset, consisting of sensor readings and engine parameters, was utilized to train a Linear Regression model. The key steps in the project include:\n",
    "\n",
    "1. **Data Preprocessing:** Merging training and test datasets, calculating RUL, and defining feature columns.\n",
    "2. **Model Training:** A Linear Regression model was employed to predict the RUL based on the selected features.\n",
    "3. **Evaluation:** The model was evaluated using metrics like Mean Squared Error (MSE) and accuracy for a specific threshold.\n",
    "\n",
    "The Linear Regression model demonstrated promising results in predicting RUL. The accuracy and classification report indicate its effectiveness in estimating the remaining operational life of aircraft engines. However, it's important to note that no classification task was undertaken in this specific implementation.\n",
    "\n",
    "Future work may involve exploring classification models to predict binary outcomes related to engine health, such as whether an engine will fail within a certain time frame. This would provide a more nuanced understanding of maintenance needs and further enhance the practical applications of predictive maintenance strategies.\n"
   ]
  },
  {
   "cell_type": "code",
   "execution_count": null,
   "id": "e4623011",
   "metadata": {
    "papermill": {
     "duration": 0.015229,
     "end_time": "2024-03-11T19:57:53.063279",
     "exception": false,
     "start_time": "2024-03-11T19:57:53.048050",
     "status": "completed"
    },
    "tags": []
   },
   "outputs": [],
   "source": []
  }
 ],
 "metadata": {
  "kaggle": {
   "accelerator": "none",
   "dataSources": [
    {
     "datasetId": 4346942,
     "sourceId": 7467771,
     "sourceType": "datasetVersion"
    }
   ],
   "dockerImageVersionId": 30635,
   "isGpuEnabled": false,
   "isInternetEnabled": true,
   "language": "python",
   "sourceType": "notebook"
  },
  "kernelspec": {
   "display_name": "Python 3",
   "language": "python",
   "name": "python3"
  },
  "language_info": {
   "codemirror_mode": {
    "name": "ipython",
    "version": 3
   },
   "file_extension": ".py",
   "mimetype": "text/x-python",
   "name": "python",
   "nbconvert_exporter": "python",
   "pygments_lexer": "ipython3",
   "version": "3.11.0"
  },
  "papermill": {
   "default_parameters": {},
   "duration": 25.316558,
   "end_time": "2024-03-11T19:57:53.654828",
   "environment_variables": {},
   "exception": null,
   "input_path": "__notebook__.ipynb",
   "output_path": "__notebook__.ipynb",
   "parameters": {},
   "start_time": "2024-03-11T19:57:28.338270",
   "version": "2.4.0"
  }
 },
 "nbformat": 4,
 "nbformat_minor": 5
}
