{
 "cells": [
  {
   "cell_type": "code",
   "execution_count": 7,
   "metadata": {},
   "outputs": [],
   "source": [
    "import pandas as pd\n",
    "import numpy as np\n",
    "from datetime import datetime, timedelta\n",
    "from sklearn.model_selection import train_test_split, GridSearchCV, cross_val_score\n",
    "from sklearn.linear_model import LogisticRegression\n",
    "from sklearn.metrics import classification_report, confusion_matrix\n",
    "from sklearn.preprocessing import StandardScaler\n"
   ]
  },
  {
   "cell_type": "code",
   "execution_count": 9,
   "metadata": {},
   "outputs": [
    {
     "name": "stderr",
     "output_type": "stream",
     "text": [
      "<>:1: SyntaxWarning: invalid escape sequence '\\H'\n",
      "<>:1: SyntaxWarning: invalid escape sequence '\\H'\n",
      "C:\\Users\\ADMIN\\AppData\\Local\\Temp\\ipykernel_12196\\850810759.py:1: SyntaxWarning: invalid escape sequence '\\H'\n",
      "  df = pd.read_csv('E:\\Hack\\Main.csv')\n"
     ]
    },
    {
     "data": {
      "text/html": [
       "<div>\n",
       "<style scoped>\n",
       "    .dataframe tbody tr th:only-of-type {\n",
       "        vertical-align: middle;\n",
       "    }\n",
       "\n",
       "    .dataframe tbody tr th {\n",
       "        vertical-align: top;\n",
       "    }\n",
       "\n",
       "    .dataframe thead th {\n",
       "        text-align: right;\n",
       "    }\n",
       "</style>\n",
       "<table border=\"1\" class=\"dataframe\">\n",
       "  <thead>\n",
       "    <tr style=\"text-align: right;\">\n",
       "      <th></th>\n",
       "      <th>Machine ID</th>\n",
       "      <th>Timestamp</th>\n",
       "      <th>Temperature</th>\n",
       "      <th>Pressure</th>\n",
       "      <th>Vibration</th>\n",
       "      <th>Energy Consumption</th>\n",
       "      <th>Failure</th>\n",
       "    </tr>\n",
       "  </thead>\n",
       "  <tbody>\n",
       "    <tr>\n",
       "      <th>0</th>\n",
       "      <td>170</td>\n",
       "      <td>5/14/2023 10:48</td>\n",
       "      <td>46</td>\n",
       "      <td>33</td>\n",
       "      <td>7.40</td>\n",
       "      <td>45.98</td>\n",
       "      <td>0</td>\n",
       "    </tr>\n",
       "    <tr>\n",
       "      <th>1</th>\n",
       "      <td>431</td>\n",
       "      <td>11/3/2022 10:48</td>\n",
       "      <td>95</td>\n",
       "      <td>64</td>\n",
       "      <td>4.39</td>\n",
       "      <td>31.70</td>\n",
       "      <td>0</td>\n",
       "    </tr>\n",
       "    <tr>\n",
       "      <th>2</th>\n",
       "      <td>881</td>\n",
       "      <td>11/11/2021 10:48</td>\n",
       "      <td>82</td>\n",
       "      <td>89</td>\n",
       "      <td>8.45</td>\n",
       "      <td>142.69</td>\n",
       "      <td>0</td>\n",
       "    </tr>\n",
       "    <tr>\n",
       "      <th>3</th>\n",
       "      <td>886</td>\n",
       "      <td>7/29/2024 10:48</td>\n",
       "      <td>42</td>\n",
       "      <td>61</td>\n",
       "      <td>8.88</td>\n",
       "      <td>18.14</td>\n",
       "      <td>0</td>\n",
       "    </tr>\n",
       "    <tr>\n",
       "      <th>4</th>\n",
       "      <td>752</td>\n",
       "      <td>10/6/2022 10:48</td>\n",
       "      <td>25</td>\n",
       "      <td>54</td>\n",
       "      <td>5.69</td>\n",
       "      <td>104.08</td>\n",
       "      <td>0</td>\n",
       "    </tr>\n",
       "  </tbody>\n",
       "</table>\n",
       "</div>"
      ],
      "text/plain": [
       "   Machine ID         Timestamp  Temperature  Pressure  Vibration  \\\n",
       "0         170   5/14/2023 10:48           46        33       7.40   \n",
       "1         431   11/3/2022 10:48           95        64       4.39   \n",
       "2         881  11/11/2021 10:48           82        89       8.45   \n",
       "3         886   7/29/2024 10:48           42        61       8.88   \n",
       "4         752   10/6/2022 10:48           25        54       5.69   \n",
       "\n",
       "   Energy Consumption  Failure  \n",
       "0               45.98        0  \n",
       "1               31.70        0  \n",
       "2              142.69        0  \n",
       "3               18.14        0  \n",
       "4              104.08        0  "
      ]
     },
     "execution_count": 9,
     "metadata": {},
     "output_type": "execute_result"
    }
   ],
   "source": [
    "df = pd.read_csv('E:\\Hack\\Main.csv')\n",
    "df.head()"
   ]
  },
  {
   "cell_type": "code",
   "execution_count": 20,
   "metadata": {},
   "outputs": [
    {
     "name": "stdout",
     "output_type": "stream",
     "text": [
      "       Machine ID   Timestamp  Temperature     Pressure    Vibration  \\\n",
      "count  1204.00000        1204  1204.000000  1204.000000  1204.000000   \n",
      "mean    560.02990  2023-03-02    59.178571    64.886213     5.410407   \n",
      "min       2.00000  2021-07-10    17.000000    25.000000     0.000000   \n",
      "25%     289.00000  2022-04-30    38.000000    47.000000     2.450000   \n",
      "50%     564.00000  2023-02-25    60.000000    65.000000     5.380000   \n",
      "75%     833.25000  2024-01-07    79.000000    83.000000     8.300000   \n",
      "max    1100.00000  2024-10-21   103.000000   105.000000    10.980000   \n",
      "std     314.84872         NaN    23.738227    20.960506     3.252292   \n",
      "\n",
      "       Energy Consumption      Failure  \n",
      "count         1204.000000  1204.000000  \n",
      "mean           101.805316     0.047342  \n",
      "min              1.080000     0.000000  \n",
      "25%             53.727500     0.000000  \n",
      "50%            101.710000     0.000000  \n",
      "75%            152.000000     0.000000  \n",
      "max            200.950000     1.000000  \n",
      "std             58.062637     0.212458  \n"
     ]
    }
   ],
   "source": [
    "print(df.describe())"
   ]
  },
  {
   "cell_type": "code",
   "execution_count": 17,
   "metadata": {},
   "outputs": [
    {
     "name": "stdout",
     "output_type": "stream",
     "text": [
      "<class 'pandas.core.frame.DataFrame'>\n",
      "RangeIndex: 1204 entries, 0 to 1203\n",
      "Data columns (total 7 columns):\n",
      " #   Column              Non-Null Count  Dtype  \n",
      "---  ------              --------------  -----  \n",
      " 0   Machine ID          1204 non-null   int64  \n",
      " 1   Timestamp           1204 non-null   object \n",
      " 2   Temperature         1204 non-null   int64  \n",
      " 3   Pressure            1204 non-null   int64  \n",
      " 4   Vibration           1204 non-null   float64\n",
      " 5   Energy Consumption  1204 non-null   float64\n",
      " 6   Failure             1204 non-null   int64  \n",
      "dtypes: float64(2), int64(4), object(1)\n",
      "memory usage: 66.0+ KB\n"
     ]
    }
   ],
   "source": [
    "df.info()"
   ]
  },
  {
   "cell_type": "markdown",
   "metadata": {},
   "source": [
    "#####  - Timestamp is in object we have to convert this into date datatype"
   ]
  },
  {
   "cell_type": "code",
   "execution_count": 18,
   "metadata": {},
   "outputs": [],
   "source": [
    "df[\"Timestamp\"] = df[\"Timestamp\"].astype(\"date64[pyarrow]\")"
   ]
  },
  {
   "cell_type": "code",
   "execution_count": 19,
   "metadata": {},
   "outputs": [
    {
     "name": "stdout",
     "output_type": "stream",
     "text": [
      "<class 'pandas.core.frame.DataFrame'>\n",
      "RangeIndex: 1204 entries, 0 to 1203\n",
      "Data columns (total 7 columns):\n",
      " #   Column              Non-Null Count  Dtype              \n",
      "---  ------              --------------  -----              \n",
      " 0   Machine ID          1204 non-null   int64              \n",
      " 1   Timestamp           1204 non-null   date64[ms][pyarrow]\n",
      " 2   Temperature         1204 non-null   int64              \n",
      " 3   Pressure            1204 non-null   int64              \n",
      " 4   Vibration           1204 non-null   float64            \n",
      " 5   Energy Consumption  1204 non-null   float64            \n",
      " 6   Failure             1204 non-null   int64              \n",
      "dtypes: date64[ms][pyarrow](1), float64(2), int64(4)\n",
      "memory usage: 66.0 KB\n"
     ]
    }
   ],
   "source": [
    "df.info()"
   ]
  },
  {
   "cell_type": "markdown",
   "metadata": {},
   "source": [
    "#### Any Null values "
   ]
  },
  {
   "cell_type": "code",
   "execution_count": 22,
   "metadata": {},
   "outputs": [
    {
     "name": "stdout",
     "output_type": "stream",
     "text": [
      "Machine ID            0\n",
      "Timestamp             0\n",
      "Temperature           0\n",
      "Pressure              0\n",
      "Vibration             0\n",
      "Energy Consumption    0\n",
      "Failure               0\n",
      "dtype: int64\n"
     ]
    }
   ],
   "source": [
    "print(df.isnull().sum())"
   ]
  },
  {
   "cell_type": "code",
   "execution_count": null,
   "metadata": {},
   "outputs": [],
   "source": [
    "df.head(\n",
    "    \n",
    ")"
   ]
  },
  {
   "cell_type": "markdown",
   "metadata": {},
   "source": [
    "### Normalize the data"
   ]
  },
  {
   "cell_type": "code",
   "execution_count": null,
   "metadata": {},
   "outputs": [],
   "source": []
  }
 ],
 "metadata": {
  "kernelspec": {
   "display_name": "Python 3",
   "language": "python",
   "name": "python3"
  },
  "language_info": {
   "codemirror_mode": {
    "name": "ipython",
    "version": 3
   },
   "file_extension": ".py",
   "mimetype": "text/x-python",
   "name": "python",
   "nbconvert_exporter": "python",
   "pygments_lexer": "ipython3",
   "version": "3.12.2"
  }
 },
 "nbformat": 4,
 "nbformat_minor": 2
}
