{
  "nbformat": 4,
  "nbformat_minor": 0,
  "metadata": {
    "colab": {
      "provenance": [],
      "authorship_tag": "ABX9TyO5MbETesfVnzYtLPo5BrHj",
      "include_colab_link": true
    },
    "kernelspec": {
      "name": "python3",
      "display_name": "Python 3"
    },
    "language_info": {
      "name": "python"
    }
  },
  "cells": [
    {
      "cell_type": "markdown",
      "metadata": {
        "id": "view-in-github",
        "colab_type": "text"
      },
      "source": [
        "<a href=\"https://colab.research.google.com/github/muzammilkhattri/HacktoberFest-Hackathon/blob/main/Issue%20%233/QuarkAI/ML.ipynb\" target=\"_parent\"><img src=\"https://colab.research.google.com/assets/colab-badge.svg\" alt=\"Open In Colab\"/></a>"
      ]
    },
    {
      "cell_type": "markdown",
      "source": [
        "# Importing Libraries"
      ],
      "metadata": {
        "id": "x6Q7mTTorwyC"
      }
    },
    {
      "cell_type": "code",
      "source": [
        "from sklearn.impute import SimpleImputer\n",
        "from sklearn.preprocessing import StandardScaler, OneHotEncoder\n",
        "from sklearn.model_selection import train_test_split\n",
        "from sklearn.ensemble import RandomForestClassifier\n",
        "from sklearn.metrics import classification_report, roc_auc_score\n",
        "from imblearn.over_sampling import SMOTE\n",
        "import matplotlib.pyplot as plt\n",
        "from scipy import stats\n",
        "import numpy as np\n",
        "import pandas as pd\n",
        "import math"
      ],
      "metadata": {
        "id": "cYjcX29orxr0"
      },
      "execution_count": 19,
      "outputs": []
    },
    {
      "cell_type": "markdown",
      "source": [
        "# Dataset Creation"
      ],
      "metadata": {
        "id": "E3TuzMmzj-Iz"
      }
    },
    {
      "cell_type": "code",
      "execution_count": 17,
      "metadata": {
        "colab": {
          "base_uri": "https://localhost:8080/",
          "height": 564
        },
        "id": "OmkLksXOZezT",
        "outputId": "ad83cf63-644e-4985-d8f8-dc63377ad645"
      },
      "outputs": [
        {
          "output_type": "display_data",
          "data": {
            "text/plain": [
              "<Figure size 800x600 with 1 Axes>"
            ],
            "image/png": "[encoded data removed]"
          },
          "metadata": {}
        }
      ],
      "source": [
        "np.random.seed(42)\n",
        "\n",
        "# Number of patients\n",
        "num_patients = 1000\n",
        "\n",
        "# demographics data\n",
        "ages = np.random.randint(18, 90, size=num_patients)\n",
        "genders = np.random.choice(['Male', 'Female'], size=num_patients)\n",
        "ethnicity = np.random.choice(['White', 'Black', 'Asian', 'Hispanic'], size=num_patients)\n",
        "\n",
        "diagnosis_codes = np.random.choice(['ICD_A', 'ICD_B', 'ICD_C', 'ICD_D'], size=num_patients)\n",
        "\n",
        "blood_pressure_systolic = np.random.normal(120, 20, num_patients)\n",
        "blood_pressure_diastolic = np.random.normal(80, 10, num_patients)\n",
        "heart_rate = np.random.normal(75, 10, num_patients)\n",
        "oxygen_saturation = np.random.normal(95, 3, num_patients)\n",
        "\n",
        "blood_sugar = np.random.normal(110, 20, num_patients)\n",
        "cholesterol = np.random.normal(200, 50, num_patients)\n",
        "creatinine = np.random.normal(1.0, 0.3, num_patients)\n",
        "\n",
        "treatment_history = np.random.randint(0, 2, size=num_patients)\n",
        "\n",
        "sudden_bp_drop = np.random.choice([0, 1], size=num_patients, p=[0.8, 0.2])\n",
        "\n",
        "readmission = np.random.choice([0, 1], size=num_patients, p=[0.8, 0.2])\n",
        "\n",
        "data = {\n",
        "    'Age': ages,\n",
        "    'Gender': genders,\n",
        "    'Ethnicity': ethnicity,\n",
        "    'Diagnosis_Code': diagnosis_codes,\n",
        "    'BP_Systolic': blood_pressure_systolic,\n",
        "    'BP_Diastolic': blood_pressure_diastolic,\n",
        "    'Heart_Rate': heart_rate,\n",
        "    'Oxygen_Saturation': oxygen_saturation,\n",
        "    'Blood_Sugar': blood_sugar,\n",
        "    'Cholesterol': cholesterol,\n",
        "    'Creatinine': creatinine,\n",
        "    'Treatment_History': treatment_history,\n",
        "    'Sudden_BP_Drop': sudden_bp_drop,\n",
        "    'Readmission': readmission\n",
        "}\n",
        "\n",
        "df = pd.DataFrame(data)\n",
        "\n",
        "df.to_csv('icu_readmission_data.csv', index=False)\n",
        "\n",
        "# Plot readmission\n",
        "plt.figure(figsize=(8, 6))\n",
        "plt.hist(df['Readmission'], bins=20, color='skyblue', edgecolor='black')\n",
        "plt.xlabel('Readmission')\n",
        "plt.ylabel('Frequency')\n",
        "plt.title('Distribution of Readmission')\n",
        "plt.show()\n",
        "\n"
      ]
    },
    {
      "cell_type": "markdown",
      "source": [
        "# Preprocessing"
      ],
      "metadata": {
        "id": "z280dCDB4mp7"
      }
    },
    {
      "cell_type": "code",
      "source": [
        "# Load your dataset (replace 'icu_readmission_data.csv' with your actual dataset)\n",
        "df = pd.read_csv('icu_readmission_data.csv')\n",
        "\n",
        "# 1. Handling Missing Data\n",
        "numeric_features = df.select_dtypes(include=[np.number]).columns\n",
        "categorical_features = df.select_dtypes(include=['object']).columns\n",
        "\n",
        "# Imputers for missing data\n",
        "numeric_imputer = SimpleImputer(strategy='median')\n",
        "categorical_imputer = SimpleImputer(strategy='most_frequent')\n",
        "\n",
        "# Impute numeric and categorical columns\n",
        "df[numeric_features] = numeric_imputer.fit_transform(df[numeric_features])\n",
        "df[categorical_features] = categorical_imputer.fit_transform(df[categorical_features])\n",
        "\n",
        "# 2. Handling Outliers using Z-score method\n",
        "z_scores = np.abs(stats.zscore(df[numeric_features]))\n",
        "df = df[(z_scores < 3).all(axis=1)]\n",
        "\n",
        "# 3. Encoding Categorical Variables\n",
        "encoder = OneHotEncoder(sparse_output=False, handle_unknown='ignore')\n",
        "encoded_columns = pd.DataFrame(encoder.fit_transform(df[categorical_features]),\n",
        "                               columns=encoder.get_feature_names_out(categorical_features))\n",
        "\n",
        "# Concatenate the encoded columns with the original dataframe and drop original categorical columns\n",
        "df = pd.concat([df, encoded_columns], axis=1)\n",
        "df = df.drop(categorical_features, axis=1)\n",
        "\n",
        "# 4. Check and handle missing values in the target column ('Readmission')\n",
        "if df['Readmission'].isnull().sum() > 0:\n",
        "    df = df.dropna(subset=['Readmission'])\n",
        "\n",
        "X = df.drop(columns='Readmission')\n",
        "y = df['Readmission']\n",
        "\n",
        "\n",
        "# y = np.where(y > 0.5, 1, 0)\n",
        "\n",
        "\n",
        "X = X.replace({np.nan: 0})\n",
        "\n",
        "# 6. Apply SMOTE to balance classes only if there are no missing values\n",
        "if X.isnull().sum().sum() == 0:\n",
        "    smote = SMOTE(random_state=42)\n",
        "    X_resampled, y_resampled = smote.fit_resample(X, y)\n",
        "else:\n",
        "    print(\"There are still missing values in the features.\")\n",
        "\n",
        "\n",
        "# 7. Train-Test Split\n",
        "X_train, X_test, y_train, y_test = train_test_split(X_resampled, y_resampled, test_size=0.2, random_state=42)\n"
      ],
      "metadata": {
        "id": "wxXmg2rHm8G5"
      },
      "execution_count": 35,
      "outputs": []
    },
    {
      "cell_type": "code",
      "source": [],
      "metadata": {
        "id": "R6Z3yCdloT1Q"
      },
      "execution_count": null,
      "outputs": []
    }
  ]
}